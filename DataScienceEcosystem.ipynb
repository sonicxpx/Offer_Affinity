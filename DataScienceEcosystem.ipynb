{
 "cells": [
  {
   "cell_type": "markdown",
   "metadata": {},
   "source": [
    "<center>\n",
    "    <img src=\"https://cf-courses-data.s3.us.cloud-object-storage.appdomain.cloud/IBMDeveloperSkillsNetwork-DS0105EN-SkillsNetwork/labs/Module2/images/SN_web_lightmode.png\" width=\"300\" alt=\"cognitiveclass.ai logo\">\n",
    "</center>\n"
   ]
  },
  {
   "cell_type": "markdown",
   "metadata": {},
   "source": [
    "#### Add your code below following the instructions given in the course\n"
   ]
  },
  {
   "cell_type": "markdown",
   "metadata": {},
   "source": [
    "<strong> Exercise 1: Create a Jupyter Notebook <strong>\n",
    "\n"
   ]
  },
  {
   "cell_type": "markdown",
   "metadata": {},
   "source": [
    "# Data Science Tools and Ecosystem"
   ]
  },
  {
   "cell_type": "markdown",
   "metadata": {},
   "source": [
    "In this notebook, Data Science Tools and Ecosystem are summarized.\n"
   ]
  },
  {
   "cell_type": "markdown",
   "metadata": {},
   "source": [
    "## Objectives:\n",
    "\n",
    "- List popular programming languages for Data Science\n",
    "- Introduce some of the commonly used Python libraries for Data Science such as Pandas and NumPy\n",
    "- Explain how to visualize data with Matplotlib and Seaborn\n",
    "- Discuss version control with Git and its integration with GitHub\n",
    "- Demonstrate how to use Jupyter Notebook for data analysis and reporting.\n"
   ]
  },
  {
   "cell_type": "markdown",
   "metadata": {},
   "source": [
    "Some of the popular languages that Data Scientists use are:\n",
    "<ol>\n",
    "    <li>Python.</li>\n",
    "    <li>R.</li>\n",
    "    <li>SQL.</li>\n",
    "    <li>Java.</li>\n",
    "    <li>Julia.</li>\n",
    "    <li>Scala.</li>\n",
    "    <li>C/C++.</li>\n",
    "    <li>JavaScript.</li>\n",
    "</ol>\n"
   ]
  },
  {
   "cell_type": "markdown",
   "metadata": {},
   "source": [
    "Some of the commonly used libraries used by Data Scientists include:\n",
    "<ol>\n",
    "    <li>TensorFlow.</li>\n",
    "    <li>NumPy.</li>\n",
    "    <li>SciPy.</li>\n",
    "    <li>Pandas.</li>\n",
    "    <li>Matplotlib.</li>\n",
    "    <li>Keras.</li>\n",
    "    <li>SciKit-Learn.</li>\n",
    "    <li>PyTorch.</li>\n",
    "    <li>Scrapy.</li>\n",
    "    <li>BeautifulSoup.</li>\n",
    "    <li>LightGBM.</li>\n",
    "    <li>ELI5.</li>\n",
    "    <li>Theano.</li>\n",
    "    <li>NuPIC.</li>\n",
    "    <li>Ramp.</li>\n",
    "    <li>Pipenv.</li>\n",
    "    <li>Bob.</li>\n",
    "    <li>PyBrain.</li>\n",
    "    <li>Caffe2.</li>\n",
    "    <li>Chainer.</li>\n",
    "</ol>"
   ]
  },
  {
   "cell_type": "markdown",
   "metadata": {},
   "source": [
    "| Data Science Tools | Description                                                                                               |\n",
    "|--------------------|-----------------------------------------------------------------------------------------------------------|\n",
    "| Jupyter Notebook   | Jupyter Notebook is an open-source web application that allows you to create and share documents that contain live code, equations, visualizations, and narrative text. |\n",
    "| RStudio            | RStudio is an integrated development environment (IDE) for R programming language that provides a user-friendly interface to work with R.                         |\n",
    "| Spyder             | Spyder is an open-source cross-platform integrated development environment (IDE) for scientific programming. It provides advanced editing, debugging, and data exploration. |\n"
   ]
  },
  {
   "cell_type": "markdown",
   "metadata": {},
   "source": [
    "### Below are a few examples of evaluating arithmetic expressions in Python\n",
    "\n",
    "Here are some examples of evaluating arithmetic expressions in Python:\n",
    "\n",
    "- `2 + 2` evaluates to `4`\n",
    "- `4 - 1` evaluates to `3`\n",
    "- `5 * 2` evaluates to `10`\n",
    "- `10 / 3` evaluates to `3.3333333333333335`\n",
    "- `10 // 3` evaluates to `3`\n",
    "- `10 % 3` evaluates to `1`\n",
    "- `2 ** 3` evaluates to `8`\n",
    "\n",
    "These are just a few basic examples of how Python can evaluate arithmetic expressions.\n"
   ]
  },
  {
   "cell_type": "code",
   "execution_count": 6,
   "metadata": {},
   "outputs": [
    {
     "data": {
      "text/plain": [
       "17"
      ]
     },
     "execution_count": 6,
     "metadata": {},
     "output_type": "execute_result"
    }
   ],
   "source": [
    "# This is a simple arithmetic expression to multiply then add integers.\n",
    "(3 * 4) + 5\n"
   ]
  },
  {
   "cell_type": "code",
   "execution_count": 5,
   "metadata": {},
   "outputs": [
    {
     "name": "stdout",
     "output_type": "stream",
     "text": [
      "Days: 0\n",
      "Hours: 3\n",
      "Minutes: 20\n"
     ]
    }
   ],
   "source": [
    "# This will convert 200 minutes to days, hours, and minutes.\n",
    "minutes = 200\n",
    "days = minutes // (24 * 60)\n",
    "hours = (minutes // 60) % 24\n",
    "minutes = minutes % 60\n",
    "\n",
    "print(\"Days:\", days)\n",
    "print(\"Hours:\", hours)\n",
    "print(\"Minutes:\", minutes)\n"
   ]
  },
  {
   "cell_type": "markdown",
   "metadata": {},
   "source": [
    "## Author\n",
    "\n",
    "Linh Vo.\n"
   ]
  },
  {
   "cell_type": "code",
   "execution_count": null,
   "metadata": {},
   "outputs": [],
   "source": []
  }
 ],
 "metadata": {
  "kernelspec": {
   "display_name": "Python",
   "language": "python",
   "name": "conda-env-python-py"
  },
  "language_info": {
   "codemirror_mode": {
    "name": "ipython",
    "version": 3
   },
   "file_extension": ".py",
   "mimetype": "text/x-python",
   "name": "python",
   "nbconvert_exporter": "python",
   "pygments_lexer": "ipython3",
   "version": "3.7.12"
  }
 },
 "nbformat": 4,
 "nbformat_minor": 4
}
